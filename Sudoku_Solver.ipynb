{
 "metadata": {
  "language_info": {
   "codemirror_mode": {
    "name": "ipython",
    "version": 3
   },
   "file_extension": ".py",
   "mimetype": "text/x-python",
   "name": "python",
   "nbconvert_exporter": "python",
   "pygments_lexer": "ipython3",
   "version": "3.7.6-final"
  },
  "orig_nbformat": 2,
  "kernelspec": {
   "name": "python3",
   "display_name": "Python 3"
  }
 },
 "nbformat": 4,
 "nbformat_minor": 2,
 "cells": [
  {
   "cell_type": "code",
   "execution_count": 1,
   "metadata": {},
   "outputs": [],
   "source": [
    "import numpy as np\n",
    "import pandas as pd\n",
    "\n",
    "dataset = pd.read_csv(\"Sudoku_grid.txt\",delimiter='\\t',header=None)\n",
    "grid = dataset.iloc[:,:].values\n",
    "#print(np.matrix(grid))\n",
    "call=0"
   ]
  },
  {
   "cell_type": "code",
   "execution_count": 2,
   "metadata": {},
   "outputs": [],
   "source": [
    "def Check(y,x,n):\n",
    "    global grid\n",
    "    for i in range(0,9):\n",
    "        if grid[y][i]==n:\n",
    "            return False\n",
    "    for i in range(0,9):\n",
    "        if grid[i][x]==n:\n",
    "            return False\n",
    "    X = (x//3)*3\n",
    "    Y = (y//3)*3\n",
    "    for i in range(0,3):\n",
    "        for j in range(0,3):\n",
    "            if grid[Y+i][X+j]==n:\n",
    "              return False\n",
    "    return True\n"
   ]
  },
  {
   "cell_type": "code",
   "execution_count": 3,
   "metadata": {},
   "outputs": [],
   "source": [
    "def solve():\n",
    "    \n",
    "    global grid,call\n",
    "    for y in range(0,9):\n",
    "        for x in range(0,9):\n",
    "            if grid[y][x]==0:\n",
    "                for n in range(0,10):\n",
    "                     if Check(y,x,n):\n",
    "                         grid[y][x]=n\n",
    "                         solve()\n",
    "                         call+=1\n",
    "                         grid[y][x]=0\n",
    "                \n",
    "                return  \n",
    "                    \n",
    "        \n",
    "                \n",
    "    print(\"no.of Recursion:\",call)    \n",
    "    print(np.matrix(grid))\n",
    "    input(\"Did you like my project:\")\n",
    "   "
   ]
  },
  {
   "cell_type": "code",
   "execution_count": null,
   "metadata": {},
   "outputs": [],
   "source": [
    "solve()"
   ]
  },
  {
   "cell_type": "code",
   "execution_count": null,
   "metadata": {},
   "outputs": [],
   "source": []
  }
 ]
}